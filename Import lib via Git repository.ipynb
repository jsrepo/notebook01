{
  "metadata": {
    "kernelspec": {
      "name": "py-dku-venv-sgxpy36",
      "display_name": "Python (env sgxPy36)",
      "language": "python"
    },
    "creator": "jiseong",
    "createdOn": 1620199212330,
    "tags": [],
    "customFields": {},
    "language_info": {
      "name": "python",
      "version": "3.6.8",
      "mimetype": "text/x-python",
      "codemirror_mode": {
        "name": "ipython",
        "version": 3
      },
      "pygments_lexer": "ipython3",
      "nbconvert_exporter": "python",
      "file_extension": ".py"
    },
    "modifiedBy": "jiseong"
  },
  "nbformat": 4,
  "nbformat_minor": 1,
  "cells": [
    {
      "execution_count": 8,
      "cell_type": "code",
      "metadata": {},
      "source": [
        "import numpy as np\nimport pandas as pd\nimport statsmodels.formula.api as smf\nimport statsmodels.api as sm"
      ],
      "outputs": []
    },
    {
      "execution_count": 9,
      "cell_type": "code",
      "metadata": {
        "scrolled": true
      },
      "source": [
        "from notejs_lib import greeting"
      ],
      "outputs": []
    },
    {
      "execution_count": 10,
      "cell_type": "code",
      "metadata": {},
      "source": [
        "from notejs_lib import conduct_anova_with_log"
      ],
      "outputs": []
    },
    {
      "execution_count": 6,
      "cell_type": "code",
      "metadata": {},
      "source": [
        "greeting(\"SGX\")"
      ],
      "outputs": [
        {
          "output_type": "stream",
          "text": "Hello! SGX - Private repo\n",
          "name": "stdout"
        }
      ]
    },
    {
      "execution_count": 0,
      "cell_type": "code",
      "metadata": {},
      "source": [
        ""
      ],
      "outputs": []
    }
  ]
}